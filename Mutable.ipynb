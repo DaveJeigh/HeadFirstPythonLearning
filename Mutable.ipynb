{
 "cells": [
  {
   "cell_type": "code",
   "execution_count": 1,
   "metadata": {},
   "outputs": [
    {
     "name": "stdout",
     "output_type": "stream",
     "text": [
      "List after appending a value =  [1, 2, 3, 4, 5, 10]\n",
      "List after extending a list =  [1, 2, 3, 4, 5, 10, 6, 11, 23]\n",
      "List after removing a value =  [1, 2, 4, 5, 10, 6, 11, 23]\n"
     ]
    }
   ],
   "source": [
    "# example to demonstrate list is a mutable data type in python\n",
    "\n",
    "# our current list\n",
    "my_list = [1,2,3,4,5]\n",
    "\n",
    "# using append operation in our list\n",
    "my_list.append(10)\n",
    "# printing our list after the operation\n",
    "print(\"List after appending a value = \",my_list)\n",
    "\n",
    "# using extend operation in our list\n",
    "my_list.extend([6,11,23])\n",
    "# printing our list after the operation\n",
    "print(\"List after extending a list = \",my_list)\n",
    "\n",
    "# after removing a value from our list\n",
    "my_list.remove(3)\n",
    "# printing our list after the operation\n",
    "print(\"List after removing a value = \",my_list)"
   ]
  },
  {
   "cell_type": "code",
   "execution_count": 2,
   "metadata": {},
   "outputs": [
    {
     "name": "stdout",
     "output_type": "stream",
     "text": [
      "List after changing value using indexing =  [1, 2, 3, 4, 100]\n"
     ]
    }
   ],
   "source": [
    "# Example to demonstrate we can \n",
    "# also change the value of the list \n",
    "# by using the assignment operator\n",
    "my_list = [1,2,3,4,5]\n",
    "my_list[4] = 100\n",
    "print(\"List after changing value using indexing = \", my_list)"
   ]
  },
  {
   "cell_type": "code",
   "execution_count": 3,
   "metadata": {},
   "outputs": [
    {
     "name": "stdout",
     "output_type": "stream",
     "text": [
      "Set after adding a value :  {16, 1, 2, 5, 6, 7, 11}\n",
      "Set after updating some values :  {1, 2, 5, 6, 7, 9, 11, 78, 16, 100}\n",
      "Set after removing a value :  {1, 5, 6, 7, 9, 11, 78, 16, 100}\n"
     ]
    }
   ],
   "source": [
    "# example to demonstrate \n",
    "# set is a mutable data type in python\n",
    "\n",
    "# our current set\n",
    "my_set = {1,2,6,5,7,11}\n",
    "\n",
    "# adding an element in our set\n",
    "my_set.add(16)\n",
    "# printing our set after the operation\n",
    "print(\"Set after adding a value : \",my_set)\n",
    "\n",
    "# adding multiple elements in our set\n",
    "# multiple elements (such as a list) can be added using update\n",
    "my_set.update([9,78,100])\n",
    "# printing our set after the operation\n",
    "print(\"Set after updating some values : \",my_set)\n",
    "\n",
    "# removing element from our set\n",
    "my_set.remove(2)\n",
    "# printing our set after the operation\n",
    "print(\"Set after removing a value : \",my_set)"
   ]
  },
  {
   "cell_type": "code",
   "execution_count": 4,
   "metadata": {},
   "outputs": [
    {
     "name": "stdout",
     "output_type": "stream",
     "text": [
      "Dictionary after adding a new key-value pair =  {'state': 'WB', 'Capital': 'Kolkata', 'Country': 'India'}\n",
      "Dictionary after updating an existing key value pair =  {'state': 'West Bengal', 'Capital': 'Kolkata', 'Country': 'India'}\n",
      "Dictionary after popping out a key value pair =  {'state': 'West Bengal', 'Country': 'India'}\n",
      "After clearing the whole dictionary =  {}\n"
     ]
    }
   ],
   "source": [
    "# example to demonstrate dictionary is a mutable data type in python\n",
    "\n",
    "# our current dictionary\n",
    "my_dict = {\"state\":\"WB\", \"Capital\":\"Kolkata\"}\n",
    "\n",
    "# adding new key-value pair to our dictionary\n",
    "my_dict['Country'] = \"India\"\n",
    "# printing our dictionary after the operation\n",
    "print(\"Dictionary after adding a new key-value pair = \",my_dict)\n",
    "\n",
    "# updating key-value pair in our dictionary\n",
    "my_dict['state'] = \"West Bengal\"\n",
    "# printing our dictionary after the operation\n",
    "print(\"Dictionary after updating an existing key value pair = \",my_dict)\n",
    "\n",
    "# removing key-value pair in our dictionary\n",
    "my_dict.pop('Capital')\n",
    "# printing our dictionary after the operation\n",
    "print(\"Dictionary after popping out a key value pair = \",my_dict)\n",
    "\n",
    "# removing key-value pair in our dictionary\n",
    "my_dict.clear()\n",
    "print(\"After clearing the whole dictionary = \",my_dict)"
   ]
  },
  {
   "cell_type": "code",
   "execution_count": null,
   "metadata": {},
   "outputs": [],
   "source": []
  }
 ],
 "metadata": {
  "kernelspec": {
   "display_name": "Python 3",
   "language": "python",
   "name": "python3"
  },
  "language_info": {
   "codemirror_mode": {
    "name": "ipython",
    "version": 3
   },
   "file_extension": ".py",
   "mimetype": "text/x-python",
   "name": "python",
   "nbconvert_exporter": "python",
   "pygments_lexer": "ipython3",
   "version": "3.11.5"
  },
  "orig_nbformat": 4
 },
 "nbformat": 4,
 "nbformat_minor": 2
}
